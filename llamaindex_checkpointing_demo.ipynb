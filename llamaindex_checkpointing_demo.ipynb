{
  "cells": [
    {
      "cell_type": "markdown",
      "metadata": {},
      "source": [
        "# LlamaIndex Workflow Checkpointing Demo\n",
        "\n",
        "This notebook demonstrates the essential patterns for using LlamaIndex WorkflowCheckpointer with a simple adding numbers workflow.\n",
        "\n",
        "## What We'll Learn\n",
        "1. How to initiate a checkpointer\n",
        "2. How to run a workflow\n",
        "3. What checkpoint data looks like when interrupted\n",
        "4. How to resume a workflow\n"
      ]
    },
    {
      "cell_type": "markdown",
      "metadata": {},
      "source": [
        "## 1. Setup and Imports\n"
      ]
    },
    {
      "cell_type": "code",
      "execution_count": null,
      "metadata": {},
      "outputs": [],
      "source": [
        "import asyncio\n",
        "from typing import List, Dict, Any\n",
        "\n",
        "from llama_index.core.workflow import Workflow, StartEvent, StopEvent, step, Event\n",
        "from llama_index.core.workflow.checkpointer import WorkflowCheckpointer\n"
      ]
    },
    {
      "cell_type": "markdown",
      "metadata": {},
      "source": [
        "## 2. Define Event Classes\n",
        "\n",
        "Simple events for our adding numbers workflow:\n"
      ]
    },
    {
      "cell_type": "code",
      "execution_count": null,
      "metadata": {},
      "outputs": [],
      "source": [
        "class NumbersEvent(Event):\n",
        "    numbers: List[int]\n",
        "    message: str = \"\"\n",
        "\n",
        "class SumEvent(Event):\n",
        "    numbers: List[int]\n",
        "    sum: int\n",
        "    message: str = \"\"\n",
        "\n",
        "class FinalResultEvent(Event):\n",
        "    numbers: List[int]\n",
        "    sum: int\n",
        "    average: float\n",
        "    message: str = \"\"\n"
      ]
    },
    {
      "cell_type": "markdown",
      "metadata": {},
      "source": [
        "## 3. Create Simple Adding Workflow\n",
        "\n",
        "Our workflow has 3 steps:\n",
        "1. **Get Numbers** - Generate some numbers to add\n",
        "2. **Calculate Sum** - Add the numbers together\n",
        "3. **Calculate Average** - Find the average of the numbers\n"
      ]
    },
    {
      "cell_type": "code",
      "execution_count": null,
      "metadata": {},
      "outputs": [],
      "source": [
        "class AddingWorkflow(Workflow):\n",
        "    \"\"\"Simple adding numbers workflow with checkpointing\"\"\"\n",
        "    \n",
        "    @step\n",
        "    async def get_numbers(self, ev: StartEvent) -> NumbersEvent:\n",
        "        \"\"\"Step 1: Generate numbers to add\"\"\"\n",
        "        print(\"🔢 Step 1: Getting numbers...\")\n",
        "        \n",
        "        # Generate some numbers\n",
        "        numbers = [1, 2, 3, 4, 5]\n",
        "        \n",
        "        print(f\"✅ Numbers: {numbers}\")\n",
        "        return NumbersEvent(\n",
        "            numbers=numbers,\n",
        "            message=f\"Generated numbers: {numbers}\"\n",
        "        )\n",
        "    \n",
        "    @step\n",
        "    async def calculate_sum(self, ev: NumbersEvent) -> SumEvent:\n",
        "        \"\"\"Step 2: Calculate the sum\"\"\"\n",
        "        print(f\"➕ Step 2: Calculating sum of {ev.numbers}...\")\n",
        "        \n",
        "        # Simulate some processing time\n",
        "        await asyncio.sleep(1)\n",
        "        \n",
        "        total_sum = sum(ev.numbers)\n",
        "        \n",
        "        print(f\"✅ Sum: {total_sum}\")\n",
        "        return SumEvent(\n",
        "            numbers=ev.numbers,\n",
        "            sum=total_sum,\n",
        "            message=f\"Sum of {ev.numbers} is {total_sum}\"\n",
        "        )\n",
        "    \n",
        "    @step\n",
        "    async def calculate_average(self, ev: SumEvent) -> StopEvent:\n",
        "        \"\"\"Step 3: Calculate the average\"\"\"\n",
        "        print(f\"📊 Step 3: Calculating average...\")\n",
        "        \n",
        "        # Simulate some processing time\n",
        "        await asyncio.sleep(1)\n",
        "        \n",
        "        average = ev.sum / len(ev.numbers)\n",
        "        \n",
        "        print(f\"✅ Average: {average:.2f}\")\n",
        "        \n",
        "        return StopEvent(result={\n",
        "            \"numbers\": ev.numbers,\n",
        "            \"sum\": ev.sum,\n",
        "            \"average\": round(average, 2),\n",
        "            \"message\": f\"Numbers: {ev.numbers}, Sum: {ev.sum}, Average: {average:.2f}\"\n",
        "        })\n"
      ]
    },
    {
      "cell_type": "markdown",
      "metadata": {},
      "source": []
    }
  ],
  "metadata": {
    "language_info": {
      "name": "python"
    }
  },
  "nbformat": 4,
  "nbformat_minor": 2
}
